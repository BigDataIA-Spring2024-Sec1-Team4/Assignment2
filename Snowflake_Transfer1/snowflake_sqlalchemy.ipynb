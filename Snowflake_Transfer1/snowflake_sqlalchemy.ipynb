{
 "cells": [
  {
   "cell_type": "code",
   "execution_count": 2,
   "id": "6cc28967",
   "metadata": {},
   "outputs": [
    {
     "name": "stdout",
     "output_type": "stream",
     "text": [
      "Requirement already satisfied: python-dotenv in /Users/anirudhajoshi/opt/anaconda3/lib/python3.9/site-packages (from -r requirements.txt (line 1)) (1.0.1)\n",
      "Requirement already satisfied: snowflake-connector-python in /Users/anirudhajoshi/opt/anaconda3/lib/python3.9/site-packages (from -r requirements.txt (line 2)) (3.7.0)\n",
      "Requirement already satisfied: pandas in /Users/anirudhajoshi/opt/anaconda3/lib/python3.9/site-packages (from -r requirements.txt (line 3)) (1.4.4)\n",
      "Requirement already satisfied: SQLAlchemy in /Users/anirudhajoshi/opt/anaconda3/lib/python3.9/site-packages (from -r requirements.txt (line 4)) (1.4.39)\n",
      "Requirement already satisfied: snowflake-sqlalchemy in /Users/anirudhajoshi/opt/anaconda3/lib/python3.9/site-packages (from -r requirements.txt (line 5)) (1.5.1)\n",
      "Requirement already satisfied: tomlkit in /Users/anirudhajoshi/opt/anaconda3/lib/python3.9/site-packages (from snowflake-connector-python->-r requirements.txt (line 2)) (0.11.1)\n",
      "Requirement already satisfied: certifi>=2017.4.17 in /Users/anirudhajoshi/opt/anaconda3/lib/python3.9/site-packages (from snowflake-connector-python->-r requirements.txt (line 2)) (2022.6.15)\n",
      "Requirement already satisfied: cffi<2.0.0,>=1.9 in /Users/anirudhajoshi/opt/anaconda3/lib/python3.9/site-packages (from snowflake-connector-python->-r requirements.txt (line 2)) (1.15.1)\n",
      "Requirement already satisfied: idna<4,>=2.5 in /Users/anirudhajoshi/opt/anaconda3/lib/python3.9/site-packages (from snowflake-connector-python->-r requirements.txt (line 2)) (3.3)\n",
      "Requirement already satisfied: urllib3<2.0.0,>=1.21.1 in /Users/anirudhajoshi/opt/anaconda3/lib/python3.9/site-packages (from snowflake-connector-python->-r requirements.txt (line 2)) (1.26.11)\n",
      "Requirement already satisfied: charset-normalizer<4,>=2 in /Users/anirudhajoshi/opt/anaconda3/lib/python3.9/site-packages (from snowflake-connector-python->-r requirements.txt (line 2)) (2.0.4)\n",
      "Requirement already satisfied: typing-extensions<5,>=4.3 in /Users/anirudhajoshi/opt/anaconda3/lib/python3.9/site-packages (from snowflake-connector-python->-r requirements.txt (line 2)) (4.9.0)\n",
      "Requirement already satisfied: pyOpenSSL<24.0.0,>=16.2.0 in /Users/anirudhajoshi/opt/anaconda3/lib/python3.9/site-packages (from snowflake-connector-python->-r requirements.txt (line 2)) (22.0.0)\n",
      "Requirement already satisfied: sortedcontainers>=2.4.0 in /Users/anirudhajoshi/opt/anaconda3/lib/python3.9/site-packages (from snowflake-connector-python->-r requirements.txt (line 2)) (2.4.0)\n",
      "Requirement already satisfied: filelock<4,>=3.5 in /Users/anirudhajoshi/opt/anaconda3/lib/python3.9/site-packages (from snowflake-connector-python->-r requirements.txt (line 2)) (3.6.0)\n",
      "Requirement already satisfied: requests<3.0.0 in /Users/anirudhajoshi/opt/anaconda3/lib/python3.9/site-packages (from snowflake-connector-python->-r requirements.txt (line 2)) (2.28.1)\n",
      "Requirement already satisfied: cryptography<42.0.0,>=3.1.0 in /Users/anirudhajoshi/opt/anaconda3/lib/python3.9/site-packages (from snowflake-connector-python->-r requirements.txt (line 2)) (37.0.1)\n",
      "Requirement already satisfied: asn1crypto<2.0.0,>0.24.0 in /Users/anirudhajoshi/opt/anaconda3/lib/python3.9/site-packages (from snowflake-connector-python->-r requirements.txt (line 2)) (1.5.1)\n",
      "Requirement already satisfied: packaging in /Users/anirudhajoshi/opt/anaconda3/lib/python3.9/site-packages (from snowflake-connector-python->-r requirements.txt (line 2)) (21.3)\n",
      "Requirement already satisfied: platformdirs<4.0.0,>=2.6.0 in /Users/anirudhajoshi/opt/anaconda3/lib/python3.9/site-packages (from snowflake-connector-python->-r requirements.txt (line 2)) (3.11.0)\n",
      "Requirement already satisfied: pytz in /Users/anirudhajoshi/opt/anaconda3/lib/python3.9/site-packages (from snowflake-connector-python->-r requirements.txt (line 2)) (2022.7.1)\n",
      "Requirement already satisfied: pyjwt<3.0.0 in /Users/anirudhajoshi/opt/anaconda3/lib/python3.9/site-packages (from snowflake-connector-python->-r requirements.txt (line 2)) (2.4.0)\n",
      "Requirement already satisfied: python-dateutil>=2.8.1 in /Users/anirudhajoshi/opt/anaconda3/lib/python3.9/site-packages (from pandas->-r requirements.txt (line 3)) (2.8.2)\n",
      "Requirement already satisfied: numpy>=1.18.5 in /Users/anirudhajoshi/opt/anaconda3/lib/python3.9/site-packages (from pandas->-r requirements.txt (line 3)) (1.19.5)\n",
      "Requirement already satisfied: greenlet!=0.4.17 in /Users/anirudhajoshi/opt/anaconda3/lib/python3.9/site-packages (from SQLAlchemy->-r requirements.txt (line 4)) (1.1.1)\n",
      "Requirement already satisfied: pycparser in /Users/anirudhajoshi/opt/anaconda3/lib/python3.9/site-packages (from cffi<2.0.0,>=1.9->snowflake-connector-python->-r requirements.txt (line 2)) (2.21)\n",
      "Requirement already satisfied: six>=1.5 in /Users/anirudhajoshi/opt/anaconda3/lib/python3.9/site-packages (from python-dateutil>=2.8.1->pandas->-r requirements.txt (line 3)) (1.16.0)\n",
      "Requirement already satisfied: pyparsing!=3.0.5,>=2.0.2 in /Users/anirudhajoshi/opt/anaconda3/lib/python3.9/site-packages (from packaging->snowflake-connector-python->-r requirements.txt (line 2)) (3.0.9)\n",
      "Note: you may need to restart the kernel to use updated packages.\n"
     ]
    }
   ],
   "source": [
    "pip install -r requirements.txt"
   ]
  },
  {
   "cell_type": "code",
   "execution_count": 3,
   "id": "db2f2ae3",
   "metadata": {},
   "outputs": [],
   "source": [
    "from dotenv import load_dotenv\n",
    "import os\n",
    "import snowflake.connector\n",
    "import pandas as pd\n",
    "from sqlalchemy import create_engine\n",
    "from snowflake.sqlalchemy import URL"
   ]
  },
  {
   "cell_type": "code",
   "execution_count": 12,
   "id": "771f05dd",
   "metadata": {},
   "outputs": [
    {
     "name": "stdout",
     "output_type": "stream",
     "text": [
      "Snowflake setup completed successfully.\n",
      "Data transfer to Snowflake completed successfully.\n"
     ]
    },
    {
     "name": "stderr",
     "output_type": "stream",
     "text": [
      "/Users/anirudhajoshi/opt/anaconda3/lib/python3.9/site-packages/pandas/io/sql.py:1666: UserWarning: The provided table name 'SUMMARY_FINAL' is not found exactly as such in the database after writing the table, possibly due to case sensitivity issues. Consider using lower case table names.\n",
      "  warnings.warn(msg, UserWarning)\n"
     ]
    }
   ],
   "source": [
    "load_dotenv()\n",
    "\n",
    "# Retrieve Snowflake credentials from environment variables\n",
    "user = os.getenv('SNOWFLAKE_USER')\n",
    "password = os.getenv('SNOWFLAKE_PASSWORD')\n",
    "account = os.getenv('SNOWFLAKE_ACCOUNT')\n",
    "warehouse = 'SF_WH_CASE1'\n",
    "database = 'SF_DB_CASE1'\n",
    "schema = 'SF_CASE1'\n",
    "role = 'SYSADMIN'  # Replace with your full access role\n",
    "\n",
    "# Connect to Snowflake\n",
    "conn = snowflake.connector.connect(\n",
    "    user=user,\n",
    "    password=password,\n",
    "    account=account,\n",
    "    warehouse=warehouse,\n",
    "    database=database,\n",
    "    schema=schema,\n",
    "    role=role,\n",
    ")\n",
    "\n",
    "# Create a cursor object\n",
    "cur = conn.cursor()\n",
    "\n",
    "try:\n",
    "#     cur.execute(f\"CREATE ROLE IF NOT EXISTS {role}\")\n",
    "#     cur.execute(f\"GRANT ALL PRIVILEGES ON DATABASE {database} TO ROLE {role}\")\n",
    "#     cur.execute(f\"GRANT ALL PRIVILEGES ON WAREHOUSE {warehouse} TO ROLE {role}\")\n",
    "#     cur.execute(f\"GRANT ROLE {role} TO USER {user}\")\n",
    "\n",
    "    # Execute SQL commands for setup\n",
    "    cur.execute(\"CREATE DATABASE IF NOT EXISTS SF_DB_CASE1\")\n",
    "    cur.execute(\"USE DATABASE SF_DB_CASE1\")\n",
    "    cur.execute(\"\"\"\n",
    "        CREATE WAREHOUSE IF NOT EXISTS SF_WH_CASE1\n",
    "        WITH WAREHOUSE_SIZE = 'MEDIUM'\n",
    "        WAREHOUSE_TYPE = 'STANDARD'\n",
    "        AUTO_SUSPEND = 300\n",
    "        AUTO_RESUME = TRUE;\n",
    "    \"\"\")\n",
    "    cur.execute(\"CREATE SCHEMA IF NOT EXISTS SF_CASE1\")\n",
    "    cur.execute(\"USE SCHEMA SF_CASE1\")\n",
    "    cur.execute(\"\"\"\n",
    "        CREATE OR REPLACE TABLE SUMMARY_FINAL (\n",
    "            NAME_OF_THE_TOPIC VARCHAR(500),\n",
    "            YEAR VARCHAR(255),\n",
    "            LEVEL VARCHAR(255),\n",
    "            INTRODUCTION_SUMMARY VARCHAR(10000),\n",
    "            LEARNING_OUTCOMES VARCHAR(10000),\n",
    "            LINK_TO_THE_SUMMARY_PAGE VARCHAR(1000),\n",
    "            LINK_TO_THE_PDF_FILE VARCHAR(1000)\n",
    "        );\n",
    "    \"\"\")\n",
    "\n",
    "    print(\"Snowflake setup completed successfully.\")\n",
    "\n",
    "    # Load CSV data into DataFrame\n",
    "    csv_file_path = '../Webscrape/extracted.csv'  # Update with the path to your CSV file\n",
    "    df = pd.read_csv(csv_file_path)\n",
    "\n",
    "    # Prepare DataFrame for Snowflake\n",
    "    df.columns = [col.upper() for col in df.columns]\n",
    "\n",
    "    # Configure SQLAlchemy engine for Snowflake\n",
    "    engine = create_engine(URL(\n",
    "        account=account,\n",
    "        user=user,\n",
    "        password=password,\n",
    "        database=database,\n",
    "        schema=schema,\n",
    "        warehouse=warehouse,\n",
    "        role=role,\n",
    "    ))\n",
    "\n",
    "    # Transfer data from CSV to Snowflake\n",
    "    table_name = 'SUMMARY_FINAL'\n",
    "    df.to_sql(table_name, con=engine, index=False, if_exists='append', method='multi')\n",
    "\n",
    "    print(\"Data transfer to Snowflake completed successfully.\")\n",
    "finally:\n",
    "    # Clean up\n",
    "    cur.close()\n",
    "    conn.close()"
   ]
  },
  {
   "cell_type": "code",
   "execution_count": null,
   "id": "6b0f87cc",
   "metadata": {},
   "outputs": [],
   "source": []
  }
 ],
 "metadata": {
  "kernelspec": {
   "display_name": "Python 3 (ipykernel)",
   "language": "python",
   "name": "python3"
  },
  "language_info": {
   "codemirror_mode": {
    "name": "ipython",
    "version": 3
   },
   "file_extension": ".py",
   "mimetype": "text/x-python",
   "name": "python",
   "nbconvert_exporter": "python",
   "pygments_lexer": "ipython3",
   "version": "3.9.13"
  }
 },
 "nbformat": 4,
 "nbformat_minor": 5
}
