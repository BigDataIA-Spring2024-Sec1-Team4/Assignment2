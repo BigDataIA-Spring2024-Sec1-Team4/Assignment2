{
 "cells": [
  {
   "cell_type": "code",
   "execution_count": 31,
   "id": "647a40ab",
   "metadata": {},
   "outputs": [],
   "source": [
    "import os\n",
    "from dotenv import load_dotenv\n",
    "import pandas as pd\n",
    "from sqlalchemy import create_engine\n",
    "from snowflake.sqlalchemy import URL"
   ]
  },
  {
   "cell_type": "code",
   "execution_count": 32,
   "id": "1cff808e",
   "metadata": {},
   "outputs": [],
   "source": [
    "load_dotenv()\n",
    "engine = create_engine(URL(\n",
    "    account=os.getenv(\"SNOWFLAKE_ACCOUNT\"),\n",
    "    user=os.getenv(\"SNOWFLAKE_USER\"),\n",
    "    password=os.getenv(\"SNOWFLAKE_PASSWORD\"),\n",
    "    database=os.getenv(\"SNOWFLAKE_DATABASE\"),\n",
    "    schema=os.getenv(\"SNOWFLAKE_SCHEMA\"),\n",
    "    warehouse=os.getenv(\"SNOWFLAKE_WAREHOUSE\"),\n",
    "))"
   ]
  },
  {
   "cell_type": "code",
   "execution_count": 33,
   "id": "7a38188a",
   "metadata": {},
   "outputs": [],
   "source": [
    "df = pd.read_csv('sample.csv')"
   ]
  },
  {
   "cell_type": "code",
   "execution_count": 34,
   "id": "3332c41b",
   "metadata": {},
   "outputs": [
    {
     "data": {
      "text/html": [
       "<div>\n",
       "<style scoped>\n",
       "    .dataframe tbody tr th:only-of-type {\n",
       "        vertical-align: middle;\n",
       "    }\n",
       "\n",
       "    .dataframe tbody tr th {\n",
       "        vertical-align: top;\n",
       "    }\n",
       "\n",
       "    .dataframe thead th {\n",
       "        text-align: right;\n",
       "    }\n",
       "</style>\n",
       "<table border=\"1\" class=\"dataframe\">\n",
       "  <thead>\n",
       "    <tr style=\"text-align: right;\">\n",
       "      <th></th>\n",
       "      <th>Name_of_the_Topic</th>\n",
       "      <th>Year</th>\n",
       "      <th>Level</th>\n",
       "      <th>Introduction_Summary</th>\n",
       "      <th>Learning_Outcomes</th>\n",
       "      <th>Link_to_the_Summary_Page</th>\n",
       "      <th>Link_to_the_PDF_File</th>\n",
       "    </tr>\n",
       "  </thead>\n",
       "  <tbody>\n",
       "    <tr>\n",
       "      <th>0</th>\n",
       "      <td>Data Science Basics</td>\n",
       "      <td>2022</td>\n",
       "      <td>Beginner</td>\n",
       "      <td>An overview of data science principles and pra...</td>\n",
       "      <td>Understand the fundamentals of data science- i...</td>\n",
       "      <td>Link to Summary</td>\n",
       "      <td>https://people.smp.uq.edu.au/DirkKroese/DSML/D...</td>\n",
       "    </tr>\n",
       "    <tr>\n",
       "      <th>1</th>\n",
       "      <td>Machine Learning Intro</td>\n",
       "      <td>2023</td>\n",
       "      <td>Intermediate</td>\n",
       "      <td>Introduction to machine learning and its appli...</td>\n",
       "      <td>Gain insights into machine learning models and...</td>\n",
       "      <td>Link to Summary</td>\n",
       "      <td>https://alex.smola.org/drafts/thebook.pdf</td>\n",
       "    </tr>\n",
       "    <tr>\n",
       "      <th>2</th>\n",
       "      <td>Deep Learning Fundamentals</td>\n",
       "      <td>2024</td>\n",
       "      <td>Advanced</td>\n",
       "      <td>Exploring the core concepts of deep learning.</td>\n",
       "      <td>Learn about neural networks- deep learning arc...</td>\n",
       "      <td>Link to Summary</td>\n",
       "      <td>https://www.oreilly.com/ai/free/files/fundamen...</td>\n",
       "    </tr>\n",
       "    <tr>\n",
       "      <th>3</th>\n",
       "      <td>Natural Language Processing</td>\n",
       "      <td>2025</td>\n",
       "      <td>Intermediate</td>\n",
       "      <td>An introduction to NLP and its significance in...</td>\n",
       "      <td>Understand the basics of NLP- including text p...</td>\n",
       "      <td>Link to Summary</td>\n",
       "      <td>https://cseweb.ucsd.edu/~nnakashole/teaching/e...</td>\n",
       "    </tr>\n",
       "  </tbody>\n",
       "</table>\n",
       "</div>"
      ],
      "text/plain": [
       "             Name_of_the_Topic  Year         Level  \\\n",
       "0          Data Science Basics  2022      Beginner   \n",
       "1       Machine Learning Intro  2023  Intermediate   \n",
       "2   Deep Learning Fundamentals  2024      Advanced   \n",
       "3  Natural Language Processing  2025  Intermediate   \n",
       "\n",
       "                                Introduction_Summary  \\\n",
       "0  An overview of data science principles and pra...   \n",
       "1  Introduction to machine learning and its appli...   \n",
       "2      Exploring the core concepts of deep learning.   \n",
       "3  An introduction to NLP and its significance in...   \n",
       "\n",
       "                                   Learning_Outcomes Link_to_the_Summary_Page  \\\n",
       "0  Understand the fundamentals of data science- i...          Link to Summary   \n",
       "1  Gain insights into machine learning models and...          Link to Summary   \n",
       "2  Learn about neural networks- deep learning arc...          Link to Summary   \n",
       "3  Understand the basics of NLP- including text p...          Link to Summary   \n",
       "\n",
       "                                Link_to_the_PDF_File  \n",
       "0  https://people.smp.uq.edu.au/DirkKroese/DSML/D...  \n",
       "1          https://alex.smola.org/drafts/thebook.pdf  \n",
       "2  https://www.oreilly.com/ai/free/files/fundamen...  \n",
       "3  https://cseweb.ucsd.edu/~nnakashole/teaching/e...  "
      ]
     },
     "execution_count": 34,
     "metadata": {},
     "output_type": "execute_result"
    }
   ],
   "source": [
    "df"
   ]
  },
  {
   "cell_type": "code",
   "execution_count": 35,
   "id": "4117b4c4",
   "metadata": {},
   "outputs": [],
   "source": [
    "table_name = 'SUMMARY_PDF'\n",
    "\n"
   ]
  },
  {
   "cell_type": "code",
   "execution_count": 37,
   "id": "6c93fcbe",
   "metadata": {},
   "outputs": [],
   "source": [
    "df.columns = [col.upper() for col in df.columns]\n"
   ]
  },
  {
   "cell_type": "code",
   "execution_count": 38,
   "id": "314f82c3",
   "metadata": {},
   "outputs": [
    {
     "name": "stdout",
     "output_type": "stream",
     "text": [
      "Data transfer to Snowflake completed successfully.\n"
     ]
    },
    {
     "name": "stderr",
     "output_type": "stream",
     "text": [
      "/Users/anirudhajoshi/opt/anaconda3/lib/python3.9/site-packages/pandas/io/sql.py:1666: UserWarning: The provided table name 'SUMMARY_PDF' is not found exactly as such in the database after writing the table, possibly due to case sensitivity issues. Consider using lower case table names.\n",
      "  warnings.warn(msg, UserWarning)\n"
     ]
    }
   ],
   "source": [
    "# Transfer data from CSV to Snowflake\n",
    "df.to_sql(table_name, con=engine, index=False, if_exists='append', method='multi')\n",
    "\n",
    "print(\"Data transfer to Snowflake completed successfully.\")"
   ]
  },
  {
   "cell_type": "code",
   "execution_count": null,
   "id": "6b0f87cc",
   "metadata": {},
   "outputs": [],
   "source": []
  }
 ],
 "metadata": {
  "kernelspec": {
   "display_name": "Python 3 (ipykernel)",
   "language": "python",
   "name": "python3"
  },
  "language_info": {
   "codemirror_mode": {
    "name": "ipython",
    "version": 3
   },
   "file_extension": ".py",
   "mimetype": "text/x-python",
   "name": "python",
   "nbconvert_exporter": "python",
   "pygments_lexer": "ipython3",
   "version": "3.9.13"
  }
 },
 "nbformat": 4,
 "nbformat_minor": 5
}
